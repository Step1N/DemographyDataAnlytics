{
 "cells": [
  {
   "cell_type": "code",
   "execution_count": null,
   "metadata": {},
   "outputs": [],
   "source": [
    "import os\n",
    "\n",
    "import numpy as np\n",
    "import pandas as pd\n",
    "import seaborn as sns\n",
    "from matplotlib import pyplot as plt\n",
    "from matplotlib import style\n",
    "from pandas.io.json import json_normalize\n",
    "from sklearn import linear_model\n",
    "from sklearn.ensemble import RandomForestClassifier\n",
    "from sklearn.linear_model import LogisticRegression, Perceptron, SGDClassifier\n",
    "from sklearn.naive_bayes import GaussianNB\n",
    "from sklearn.neighbors import KNeighborsClassifier\n",
    "from sklearn.preprocessing import LabelEncoder\n",
    "from sklearn.svm import SVC, LinearSVC\n",
    "from sklearn.tree import DecisionTreeClassifier"
   ]
  },
  {
   "cell_type": "code",
   "execution_count": null,
   "metadata": {},
   "outputs": [],
   "source": [
    "from IPython.display import clear_output\n",
    "\n",
    "data = pd.read_json(\"folder_name/sample_data_location.json\")\n",
    "clear_output()"
   ]
  },
  {
   "cell_type": "code",
   "execution_count": null,
   "metadata": {},
   "outputs": [],
   "source": [
    "data[\"themes\"].head(10)"
   ]
  },
  {
   "cell_type": "code",
   "execution_count": null,
   "metadata": {},
   "outputs": [],
   "source": [
    "population_theme_individual = json_normalize(\n",
    "    data[\"themes\"][\"populationTheme\"][\"individualValueVariable\"]\n",
    ")\n",
    "population_theme_range = json_normalize(\n",
    "    data[\"themes\"][\"populationTheme\"][\"rangeVariable\"],\n",
    "    record_path=[\"field\"],\n",
    "    meta=[\"name\", \"alias\", \"baseVariable\", \"year\"],\n",
    "    record_prefix=\"population_theme_\",\n",
    ")\n",
    "\n",
    "population_theme_individual.count()\n",
    "population_theme_individual.head(100)"
   ]
  },
  {
   "cell_type": "code",
   "execution_count": null,
   "metadata": {},
   "outputs": [],
   "source": [
    "population_theme_range.head(100)\n",
    "population_theme_range.to_json(r\"folder_name/write_sample_file.json\", orient=\"records\")"
   ]
  },
  {
   "cell_type": "code",
   "execution_count": null,
   "metadata": {},
   "outputs": [],
   "source": [
    "health_theme_individual = json_normalize(\n",
    "    data[\"themes\"][\"healthTheme\"][\"rangeVariable\"],\n",
    "    record_path=[\"field\"],\n",
    "    meta=[\"name\", \"alias\", \"baseVariable\", \"year\"],\n",
    "    record_prefix=\"health_theme_\",\n",
    ")\n",
    "\n",
    "health_theme_individual.head(100)"
   ]
  },
  {
   "cell_type": "code",
   "execution_count": null,
   "metadata": {},
   "outputs": [],
   "source": [
    "education_theme_individual = json_normalize(\n",
    "    data[\"themes\"][\"educationTheme\"][\"rangeVariable\"],\n",
    "    record_path=[\"field\"],\n",
    "    meta=[\"name\", \"alias\", \"baseVariable\", \"year\"],\n",
    "    record_prefix=\"education_theme_\",\n",
    ")\n",
    "\n",
    "education_theme_individual.head(100)"
   ]
  },
  {
   "cell_type": "code",
   "execution_count": null,
   "metadata": {},
   "outputs": [],
   "source": [
    "income_theme_individual = json_normalize(\n",
    "    data[\"themes\"][\"incomeTheme\"][\"rangeVariable\"],\n",
    "    record_path=[\"field\"],\n",
    "    meta=[\"name\", \"alias\", \"baseVariable\", \"year\"],\n",
    "    record_prefix=\"income_theme_\",\n",
    ")\n",
    "\n",
    "income_theme_individual.head(100)\n",
    "income_theme_individual.to_json(\n",
    "    r\"adv_experiments/income_theme_individual.json\", orient=\"records\"\n",
    ")"
   ]
  },
  {
   "cell_type": "code",
   "execution_count": null,
   "metadata": {},
   "outputs": [],
   "source": [
    "employment_theme_individual = json_normalize(\n",
    "    data[\"themes\"][\"employmentTheme\"][\"rangeVariable\"],\n",
    "    record_path=[\"field\"],\n",
    "    meta=[\"name\", \"alias\", \"baseVariable\", \"year\"],\n",
    "    record_prefix=\"employment_theme_\",\n",
    ")\n",
    "\n",
    "employment_theme_individual.head(100)"
   ]
  },
  {
   "cell_type": "code",
   "execution_count": null,
   "metadata": {},
   "outputs": [],
   "source": [
    "expenditure_theme_individual = json_normalize(\n",
    "    data[\"themes\"][\"expenditureTheme\"][\"individualValueVariable\"]\n",
    ")\n",
    "\n",
    "expenditure_theme_individual.columns = [\n",
    "    \"expenditure_theme_name\",\n",
    "    \"expenditure_theme_description\",\n",
    "    \"year\",\n",
    "    \"expenditure_theme_value\",\n",
    "]\n",
    "\n",
    "expenditure_theme_individual.head(100)\n",
    "expenditure_theme_individual.to_json(\n",
    "    r\"adv_experiments/expenditure_theme_individual.json\", orient=\"records\"\n",
    ")"
   ]
  },
  {
   "cell_type": "code",
   "execution_count": null,
   "metadata": {},
   "outputs": [],
   "source": [
    "expenditure_theme_individual = json_normalize(\n",
    "    data[\"themes\"][\"supplyAndDemandTheme\"][\"individualValueVariable\"],\n",
    "    meta=[\"name\", \"description\", \"value\", \"year\"],\n",
    "    record_prefix=\"expenditure_theme_\",\n",
    ")\n",
    "\n",
    "expenditure_theme_individual.head(100)"
   ]
  },
  {
   "cell_type": "code",
   "execution_count": null,
   "metadata": {},
   "outputs": [],
   "source": [
    "population_theme_individual.head(100)"
   ]
  },
  {
   "cell_type": "code",
   "execution_count": null,
   "metadata": {},
   "outputs": [],
   "source": [
    "income_theme_individual.head(100)"
   ]
  },
  {
   "cell_type": "code",
   "execution_count": null,
   "metadata": {},
   "outputs": [],
   "source": [
    "employment_theme_individual.head(100)"
   ]
  }
 ],
 "metadata": {
  "kernelspec": {
   "display_name": "Python 3",
   "language": "python",
   "name": "python3"
  },
  "language_info": {
   "codemirror_mode": {
    "name": "ipython",
    "version": 3
   },
   "file_extension": ".py",
   "mimetype": "text/x-python",
   "name": "python",
   "nbconvert_exporter": "python",
   "pygments_lexer": "ipython3",
   "version": "3.7.7-final"
  }
 },
 "nbformat": 4,
 "nbformat_minor": 4
}
