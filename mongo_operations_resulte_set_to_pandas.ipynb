{
 "cells": [
  {
   "cell_type": "code",
   "execution_count": 1,
   "metadata": {},
   "outputs": [],
   "source": [
    "import pandas as pd\n",
    "import pyarrow.parquet as pq\n",
    "import s3fs\n",
    "import json\n",
    "\n",
    "import geopandas\n",
    "import matplotlib.pyplot as plt\n",
    "import numpy as np \n",
    "from pandas import DataFrame\n",
    "import geopandas as gpd\n",
    "%matplotlib inline\n",
    "import fiona\n",
    "import pandas as pd\n",
    "from pymongo import MongoClient\n",
    "import urllib\n",
    "from bson.json_util import dumps\n",
    "from IPython.display import clear_output\n",
    "clear_output()"
   ]
  },
  {
   "cell_type": "code",
   "execution_count": 59,
   "metadata": {},
   "outputs": [],
   "source": [
    "def _connect_mongo(host, port, username, password, db):\n",
    "    \"\"\" A util for making a connection to mongo \"\"\"\n",
    "\n",
    "    if username and password:\n",
    "        mongo_uri = 'mongodb://%s:%s@%s:%s/%s' % (username, password, host, port, db)\n",
    "        conn = MongoClient(mongo_uri)\n",
    "    else:\n",
    "        conn = MongoClient(host, port)\n",
    "\n",
    "\n",
    "    return conn[db]"
   ]
  },
  {
   "cell_type": "code",
   "execution_count": 60,
   "metadata": {},
   "outputs": [],
   "source": [
    "pwd = urllib.parse.quote(\"pwd\")\n",
    "mongo_cl = _connect_mongo(\"hostname\", \"27017\", \"username\", pwd, \"databasename\")"
   ]
  },
  {
   "cell_type": "code",
   "execution_count": 48,
   "metadata": {},
   "outputs": [],
   "source": [
    "query = {\"geometry.coordinates\": { \"$elemMatch\": { \"$eq\": 0 } } }\n",
    "collection =\"geo_screens_address\""
   ]
  },
  {
   "cell_type": "code",
   "execution_count": 2,
   "metadata": {},
   "outputs": [],
   "source": [
    "cursor = mongo_cl[collection].find(query)\n",
    "df =  pd.DataFrame(list(cursor))\n",
    "\n",
    "df\n"
   ]
  },
  {
   "cell_type": "code",
   "execution_count": 53,
   "metadata": {},
   "outputs": [],
   "source": [
    "del df[\"_id\"]\n",
    "del df[\"geometry\"]"
   ]
  },
  {
   "cell_type": "code",
   "execution_count": 55,
   "metadata": {},
   "outputs": [],
   "source": [
    "df.to_csv('/folder_nameinputdata.csv')"
   ]
  },
  {
   "cell_type": "code",
   "execution_count": 57,
   "metadata": {},
   "outputs": [
    {
     "data": {
      "text/plain": [
       "<pymongo.results.DeleteResult at 0x11f9b52d0>"
      ]
     },
     "execution_count": 57,
     "metadata": {},
     "output_type": "execute_result"
    }
   ],
   "source": [
    "#cursor = mongo_cl[collection].delete_many(query)\n",
    "#cursor"
   ]
  },
  {
   "cell_type": "code",
   "execution_count": 86,
   "metadata": {},
   "outputs": [],
   "source": [
    "update_query = {\"user_location\": {\"$regex\": \"DDori\", \"$options\": \"i\"}}\n",
    "collection =\"user_info\"\n",
    "update_data = { \"$set\": { \"user_location\": \"Stat\" }}"
   ]
  },
  {
   "cell_type": "code",
   "execution_count": 3,
   "metadata": {},
   "outputs": [],
   "source": [
    "cursor = mongo_cl[collection].update_many(update_query, update_data)\n",
    "df =  pd.DataFrame(list(cursor))\n",
    "\n",
    "df"
   ]
  },
  {
   "cell_type": "code",
   "execution_count": 4,
   "metadata": {},
   "outputs": [],
   "source": [
    "collection =\"geo_screens_address\"\n",
    "update_data = { \"$set\": { \"s_state\": \"Karn\" }}\n",
    "for kr_d in kr_district:\n",
    "    #update_query = {\"screen_location\": {\"$regex\": kr_d, \"$options\": \"i\"}}\n",
    "    print(up_d)\n",
    "    cursor = mongo_cl[collection].update_many(update_query, update_data)\n",
    "    print(cursor)\n",
    "    \n",
    "\n",
    "    "
   ]
  }
 ],
 "metadata": {
  "kernelspec": {
   "display_name": "Python 3",
   "language": "python",
   "name": "python3"
  },
  "language_info": {
   "codemirror_mode": {
    "name": "ipython",
    "version": 3
   },
   "file_extension": ".py",
   "mimetype": "text/x-python",
   "name": "python",
   "nbconvert_exporter": "python",
   "pygments_lexer": "ipython3",
   "version": "3.7.7"
  }
 },
 "nbformat": 4,
 "nbformat_minor": 4
}
